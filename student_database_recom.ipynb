{
 "cells": [
  {
   "cell_type": "code",
   "execution_count": 1,
   "metadata": {},
   "outputs": [],
   "source": [
    "import pandas as pd\n",
    "from sklearn.decomposition import TruncatedSVD\n",
    "from sklearn.metrics.pairwise import cosine_similarity\n",
    "from scipy.sparse import csr_matrix"
   ]
  },
  {
   "cell_type": "code",
   "execution_count": 2,
   "metadata": {},
   "outputs": [],
   "source": [
    "class CourseRecommender:\n",
    "    def __init__(self, students_file, courses_file, ratings_file):\n",
    "        self.students_file = students_file\n",
    "        self.courses_file = courses_file\n",
    "        self.ratings_file = ratings_file\n",
    "        self.students = None\n",
    "        self.courses = None\n",
    "        self.ratings = None\n",
    "        self.similarity_df = None\n",
    "        \n",
    "        self.load_data()\n",
    "        self.prepare_data()\n",
    "        \n",
    "    def load_data(self):\n",
    "        self.students = pd.read_csv(self.students_file)\n",
    "        self.courses = pd.read_csv(self.courses_file)\n",
    "        self.ratings = pd.read_csv(self.ratings_file)\n",
    "        \n",
    "    def prepare_data(self):\n",
    "        # Create a pivot table with student IDs as rows and course IDs as columns\n",
    "        rating_matrix = self.ratings.pivot(index='Student_ID', columns='Course_ID', values='Rating').fillna(0)\n",
    "        \n",
    "        # Convert the pivot table to a sparse matrix format\n",
    "        sparse_matrix = csr_matrix(rating_matrix.values)\n",
    "        \n",
    "        # Apply SVD\n",
    "        svd = TruncatedSVD(n_components=20)\n",
    "        matrix_svd = svd.fit_transform(sparse_matrix)\n",
    "        \n",
    "        # Compute the cosine similarity matrix\n",
    "        similarity_matrix = cosine_similarity(matrix_svd)\n",
    "        \n",
    "        # Create a DataFrame for the similarity matrix\n",
    "        self.similarity_df = pd.DataFrame(similarity_matrix, index=rating_matrix.index, columns=rating_matrix.index)\n",
    "        \n",
    "    def get_recommendations(self, student_id, num_recommendations=20):\n",
    "        # Get the similarity scores for the student\n",
    "        similarity_scores = self.similarity_df[student_id]\n",
    "        \n",
    "        # Find the most similar students\n",
    "        similar_students = similarity_scores.sort_values(ascending=False).index[1:num_recommendations + 1]\n",
    "        \n",
    "        # Get the courses rated by these similar students\n",
    "        similar_students_ratings = self.ratings[self.ratings['Student_ID'].isin(similar_students)]\n",
    "        \n",
    "        # Calculate the average rating for each course\n",
    "        course_recommendations = similar_students_ratings.groupby('Course_ID')['Rating'].mean().sort_values(ascending=False).head(num_recommendations)\n",
    "        \n",
    "        # Merge with course details\n",
    "        recommended_courses = pd.merge(course_recommendations.reset_index(), self.courses, on='Course_ID')\n",
    "\n",
    "        # Extract unique course categories\n",
    "        recommended_categories = recommended_courses['Category'].unique()\n",
    "\n",
    "        return recommended_categories"
   ]
  },
  {
   "cell_type": "code",
   "execution_count": 3,
   "metadata": {},
   "outputs": [
    {
     "name": "stdout",
     "output_type": "stream",
     "text": [
      "['html' 'swift' 'go' 'css' 'unity' 'kotlin' 'java' 'ruby' 'Js' 'cppcsharp']\n"
     ]
    }
   ],
   "source": [
    "recommender = CourseRecommender('students.csv', 'courses.csv', 'ratings.csv')\n",
    "student_id = 5\n",
    "recommendations = recommender.get_recommendations(student_id)\n",
    "print(recommendations)"
   ]
  }
 ],
 "metadata": {
  "kernelspec": {
   "display_name": "Python 3",
   "language": "python",
   "name": "python3"
  },
  "language_info": {
   "codemirror_mode": {
    "name": "ipython",
    "version": 3
   },
   "file_extension": ".py",
   "mimetype": "text/x-python",
   "name": "python",
   "nbconvert_exporter": "python",
   "pygments_lexer": "ipython3",
   "version": "3.12.4"
  }
 },
 "nbformat": 4,
 "nbformat_minor": 2
}
